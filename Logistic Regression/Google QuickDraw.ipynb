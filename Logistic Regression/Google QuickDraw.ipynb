{
 "cells": [
  {
   "cell_type": "code",
   "execution_count": 1,
   "id": "362c7ea9",
   "metadata": {},
   "outputs": [],
   "source": [
    "from quickdraw import QuickDrawDataGroup"
   ]
  },
  {
   "cell_type": "code",
   "execution_count": 2,
   "id": "998dcf1c",
   "metadata": {},
   "outputs": [],
   "source": [
    "categories = [\"cat\", \"dog\", \"fish\", \"dolphin\"]\n",
    "max_drawings = 100\n",
    "size = 32, 32"
   ]
  },
  {
   "cell_type": "code",
   "execution_count": 3,
   "id": "764bbc6f",
   "metadata": {},
   "outputs": [],
   "source": [
    "import matplotlib.pyplot as plt\n",
    "import matplotlib.image as img\n",
    "import numpy as np"
   ]
  },
  {
   "cell_type": "code",
   "execution_count": 4,
   "id": "79261878",
   "metadata": {},
   "outputs": [
    {
     "name": "stdout",
     "output_type": "stream",
     "text": [
      "loading cat drawings\n",
      "load complete\n",
      "loading dog drawings\n",
      "load complete\n",
      "loading fish drawings\n",
      "load complete\n",
      "loading dolphin drawings\n",
      "load complete\n"
     ]
    }
   ],
   "source": [
    "images = []\n",
    "labels = []\n",
    "\n",
    "for c in categories:\n",
    "    group = QuickDrawDataGroup(c, max_drawings=max_drawings)\n",
    "    \n",
    "    for d in group.drawings:\n",
    "        d = d.image.resize(size).convert('L')\n",
    "        images.append(np.asarray(d))\n",
    "        labels.append(c)"
   ]
  },
  {
   "cell_type": "code",
   "execution_count": 5,
   "id": "d062a6c6",
   "metadata": {},
   "outputs": [
    {
     "data": {
      "image/png": "[encoded data removed]",
      "text/plain": [
       "<Figure size 640x480 with 1 Axes>"
      ]
     },
     "metadata": {},
     "output_type": "display_data"
    }
   ],
   "source": [
    "plt.imshow(images[0])\n",
    "plt.show()"
   ]
  },
  {
   "cell_type": "code",
   "execution_count": 6,
   "id": "21d410c4",
   "metadata": {},
   "outputs": [],
   "source": [
    "images[:] = [i.ravel() for i in images]"
   ]
  },
  {
   "cell_type": "code",
   "execution_count": 7,
   "id": "2df04e62",
   "metadata": {},
   "outputs": [],
   "source": [
    "from sklearn.model_selection import train_test_split\n",
    "X_train, X_test, y_train, y_test = train_test_split(images, labels, train_size=0.8)"
   ]
  },
  {
   "cell_type": "code",
   "execution_count": 8,
   "id": "093a362d",
   "metadata": {},
   "outputs": [],
   "source": [
    "from sklearn.linear_model import LogisticRegression\n",
    "model = LogisticRegression()"
   ]
  },
  {
   "cell_type": "code",
   "execution_count": 9,
   "id": "a5f1cc8a",
   "metadata": {},
   "outputs": [
    {
     "data": {
      "text/plain": [
       "(400, 1024)"
      ]
     },
     "execution_count": 9,
     "metadata": {},
     "output_type": "execute_result"
    }
   ],
   "source": [
    "np.shape(images)"
   ]
  },
  {
   "cell_type": "code",
   "execution_count": 10,
   "id": "3333b857",
   "metadata": {},
   "outputs": [
    {
     "name": "stderr",
     "output_type": "stream",
     "text": [
      "C:\\Users\\games\\anaconda3\\lib\\site-packages\\sklearn\\linear_model\\_logistic.py:814: ConvergenceWarning: lbfgs failed to converge (status=1):\n",
      "STOP: TOTAL NO. of ITERATIONS REACHED LIMIT.\n",
      "\n",
      "Increase the number of iterations (max_iter) or scale the data as shown in:\n",
      "    https://scikit-learn.org/stable/modules/preprocessing.html\n",
      "Please also refer to the documentation for alternative solver options:\n",
      "    https://scikit-learn.org/stable/modules/linear_model.html#logistic-regression\n",
      "  n_iter_i = _check_optimize_result(\n"
     ]
    },
    {
     "data": {
      "text/plain": [
       "LogisticRegression()"
      ]
     },
     "execution_count": 10,
     "metadata": {},
     "output_type": "execute_result"
    }
   ],
   "source": [
    "model.fit(X_train, y_train)"
   ]
  },
  {
   "cell_type": "code",
   "execution_count": 11,
   "id": "74d34a26",
   "metadata": {},
   "outputs": [
    {
     "data": {
      "text/plain": [
       "0.625"
      ]
     },
     "execution_count": 11,
     "metadata": {},
     "output_type": "execute_result"
    }
   ],
   "source": [
    "model.score(X_test, y_test)"
   ]
  },
  {
   "cell_type": "code",
   "execution_count": 21,
   "id": "88e407e5",
   "metadata": {},
   "outputs": [
    {
     "data": {
      "text/plain": [
       "(1024,)"
      ]
     },
     "execution_count": 21,
     "metadata": {},
     "output_type": "execute_result"
    }
   ],
   "source": [
    "from random import randint\n",
    "\n",
    "ri = randint(0, len(X_test))\n",
    "\n",
    "predict = X_test[ri]\n",
    "\n",
    "predict_image = X_test[ri].reshape((32, 32))\n",
    "np.shape(predict)"
   ]
  },
  {
   "cell_type": "code",
   "execution_count": 22,
   "id": "1609c531",
   "metadata": {},
   "outputs": [
    {
     "data": {
      "image/png": "[encoded data removed]",
      "text/plain": [
       "<Figure size 640x480 with 1 Axes>"
      ]
     },
     "metadata": {},
     "output_type": "display_data"
    }
   ],
   "source": [
    "plt.imshow(predict_image)\n",
    "plt.show()"
   ]
  },
  {
   "cell_type": "code",
   "execution_count": 23,
   "id": "0ef994df",
   "metadata": {},
   "outputs": [
    {
     "name": "stdout",
     "output_type": "stream",
     "text": [
      "Looks like a dog!\n"
     ]
    }
   ],
   "source": [
    "print(\"Looks like a \" + model.predict([predict])[0] + \"!\")"
   ]
  }
 ],
 "metadata": {
  "kernelspec": {
   "display_name": "Python 3 (ipykernel)",
   "language": "python",
   "name": "python3"
  },
  "language_info": {
   "codemirror_mode": {
    "name": "ipython",
    "version": 3
   },
   "file_extension": ".py",
   "mimetype": "text/x-python",
   "name": "python",
   "nbconvert_exporter": "python",
   "pygments_lexer": "ipython3",
   "version": "3.9.13"
  }
 },
 "nbformat": 4,
 "nbformat_minor": 5
}
