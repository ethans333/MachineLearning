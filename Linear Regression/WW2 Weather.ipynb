{
 "cells": [
  {
   "cell_type": "code",
   "execution_count": 1,
   "id": "6a1985b8",
   "metadata": {
    "_cell_guid": "b1076dfc-b9ad-4769-8c92-a6c4dae69d19",
    "_uuid": "8f2839f25d086af736a60e9eeb907d3b93b6e0e5",
    "execution": {
     "iopub.execute_input": "2022-12-11T17:43:59.270712Z",
     "iopub.status.busy": "2022-12-11T17:43:59.270188Z",
     "iopub.status.idle": "2022-12-11T17:43:59.292887Z",
     "shell.execute_reply": "2022-12-11T17:43:59.291840Z"
    },
    "papermill": {
     "duration": 0.031464,
     "end_time": "2022-12-11T17:43:59.294861",
     "exception": false,
     "start_time": "2022-12-11T17:43:59.263397",
     "status": "completed"
    },
    "tags": []
   },
   "outputs": [
    {
     "name": "stdout",
     "output_type": "stream",
     "text": [
      "/kaggle/input/weatherww2/Summary of Weather.csv\n",
      "/kaggle/input/weatherww2/Weather Station Locations.csv\n"
     ]
    }
   ],
   "source": [
    "# This Python 3 environment comes with many helpful analytics libraries installed\n",
    "# It is defined by the kaggle/python Docker image: https://github.com/kaggle/docker-python\n",
    "# For example, here's several helpful packages to load\n",
    "\n",
    "import numpy as np # linear algebra\n",
    "import pandas as pd # data processing, CSV file I/O (e.g. pd.read_csv)\n",
    "\n",
    "# Input data files are available in the read-only \"../input/\" directory\n",
    "# For example, running this (by clicking run or pressing Shift+Enter) will list all files under the input directory\n",
    "\n",
    "import os\n",
    "for dirname, _, filenames in os.walk('/kaggle/input'):\n",
    "    for filename in filenames:\n",
    "        print(os.path.join(dirname, filename))\n",
    "\n",
    "# You can write up to 20GB to the current directory (/kaggle/working/) that gets preserved as output when you create a version using \"Save & Run All\" \n",
    "# You can also write temporary files to /kaggle/temp/, but they won't be saved outside of the current session"
   ]
  },
  {
   "cell_type": "code",
   "execution_count": 2,
   "id": "a18531c8",
   "metadata": {
    "execution": {
     "iopub.execute_input": "2022-12-11T17:43:59.305698Z",
     "iopub.status.busy": "2022-12-11T17:43:59.304970Z",
     "iopub.status.idle": "2022-12-11T17:43:59.814622Z",
     "shell.execute_reply": "2022-12-11T17:43:59.812866Z"
    },
    "papermill": {
     "duration": 0.51864,
     "end_time": "2022-12-11T17:43:59.818175",
     "exception": false,
     "start_time": "2022-12-11T17:43:59.299535",
     "status": "completed"
    },
    "tags": []
   },
   "outputs": [
    {
     "name": "stderr",
     "output_type": "stream",
     "text": [
      "/opt/conda/lib/python3.7/site-packages/IPython/core/interactiveshell.py:3552: DtypeWarning: Columns (7,8,18,25) have mixed types.Specify dtype option on import or set low_memory=False.\n",
      "  exec(code_obj, self.user_global_ns, self.user_ns)\n"
     ]
    },
    {
     "data": {
      "text/html": [
       "<div>\n",
       "<style scoped>\n",
       "    .dataframe tbody tr th:only-of-type {\n",
       "        vertical-align: middle;\n",
       "    }\n",
       "\n",
       "    .dataframe tbody tr th {\n",
       "        vertical-align: top;\n",
       "    }\n",
       "\n",
       "    .dataframe thead th {\n",
       "        text-align: right;\n",
       "    }\n",
       "</style>\n",
       "<table border=\"1\" class=\"dataframe\">\n",
       "  <thead>\n",
       "    <tr style=\"text-align: right;\">\n",
       "      <th></th>\n",
       "      <th>MaxTemp</th>\n",
       "      <th>MinTemp</th>\n",
       "      <th>Precip</th>\n",
       "      <th>Snowfall</th>\n",
       "    </tr>\n",
       "  </thead>\n",
       "  <tbody>\n",
       "    <tr>\n",
       "      <th>36702</th>\n",
       "      <td>-7.222222</td>\n",
       "      <td>-10.555556</td>\n",
       "      <td>6.858</td>\n",
       "      <td>22.86</td>\n",
       "    </tr>\n",
       "    <tr>\n",
       "      <th>36705</th>\n",
       "      <td>-2.777778</td>\n",
       "      <td>-13.333333</td>\n",
       "      <td>3.048</td>\n",
       "      <td>30.48</td>\n",
       "    </tr>\n",
       "    <tr>\n",
       "      <th>36706</th>\n",
       "      <td>6.111111</td>\n",
       "      <td>-0.555556</td>\n",
       "      <td>1.016</td>\n",
       "      <td>30.48</td>\n",
       "    </tr>\n",
       "    <tr>\n",
       "      <th>36709</th>\n",
       "      <td>3.888889</td>\n",
       "      <td>1.666667</td>\n",
       "      <td>0.254</td>\n",
       "      <td>2.54</td>\n",
       "    </tr>\n",
       "    <tr>\n",
       "      <th>36720</th>\n",
       "      <td>-4.444444</td>\n",
       "      <td>-6.666667</td>\n",
       "      <td>1.524</td>\n",
       "      <td>2.54</td>\n",
       "    </tr>\n",
       "  </tbody>\n",
       "</table>\n",
       "</div>"
      ],
      "text/plain": [
       "        MaxTemp    MinTemp  Precip  Snowfall\n",
       "36702 -7.222222 -10.555556   6.858     22.86\n",
       "36705 -2.777778 -13.333333   3.048     30.48\n",
       "36706  6.111111  -0.555556   1.016     30.48\n",
       "36709  3.888889   1.666667   0.254      2.54\n",
       "36720 -4.444444  -6.666667   1.524      2.54"
      ]
     },
     "execution_count": 2,
     "metadata": {},
     "output_type": "execute_result"
    }
   ],
   "source": [
    "#Based on max temp, min temp, precip, determine if there will it snow?\n",
    "\n",
    "df = pd.read_csv('/kaggle/input/weatherww2/Summary of Weather.csv')\n",
    "df = df[['MaxTemp', 'MinTemp', 'Precip', 'Snowfall']]\n",
    "\n",
    "df = df.apply(pd.to_numeric, errors='coerce')\n",
    "df = df.dropna().reset_index(drop=True)\n",
    "\n",
    "df = df[(df['Snowfall'] > 0)]\n",
    "\n",
    "df.head()"
   ]
  },
  {
   "cell_type": "code",
   "execution_count": 3,
   "id": "c23640b7",
   "metadata": {
    "execution": {
     "iopub.execute_input": "2022-12-11T17:43:59.829944Z",
     "iopub.status.busy": "2022-12-11T17:43:59.829550Z",
     "iopub.status.idle": "2022-12-11T17:43:59.836064Z",
     "shell.execute_reply": "2022-12-11T17:43:59.834823Z"
    },
    "papermill": {
     "duration": 0.015341,
     "end_time": "2022-12-11T17:43:59.838680",
     "exception": false,
     "start_time": "2022-12-11T17:43:59.823339",
     "status": "completed"
    },
    "tags": []
   },
   "outputs": [],
   "source": [
    "X = df[['MaxTemp', 'MinTemp', 'Precip']]\n",
    "y = df['Snowfall']"
   ]
  },
  {
   "cell_type": "code",
   "execution_count": 4,
   "id": "b1a88030",
   "metadata": {
    "execution": {
     "iopub.execute_input": "2022-12-11T17:43:59.850203Z",
     "iopub.status.busy": "2022-12-11T17:43:59.849693Z",
     "iopub.status.idle": "2022-12-11T17:44:00.926747Z",
     "shell.execute_reply": "2022-12-11T17:44:00.925298Z"
    },
    "papermill": {
     "duration": 1.086363,
     "end_time": "2022-12-11T17:44:00.930143",
     "exception": false,
     "start_time": "2022-12-11T17:43:59.843780",
     "status": "completed"
    },
    "tags": []
   },
   "outputs": [],
   "source": [
    "from sklearn.model_selection import train_test_split\n",
    "X_test, X_train, y_test, y_train = train_test_split(X, y, test_size=0.2, random_state=1)"
   ]
  },
  {
   "cell_type": "code",
   "execution_count": 5,
   "id": "33110982",
   "metadata": {
    "execution": {
     "iopub.execute_input": "2022-12-11T17:44:00.940891Z",
     "iopub.status.busy": "2022-12-11T17:44:00.940502Z",
     "iopub.status.idle": "2022-12-11T17:44:00.945351Z",
     "shell.execute_reply": "2022-12-11T17:44:00.944020Z"
    },
    "papermill": {
     "duration": 0.01325,
     "end_time": "2022-12-11T17:44:00.948159",
     "exception": false,
     "start_time": "2022-12-11T17:44:00.934909",
     "status": "completed"
    },
    "tags": []
   },
   "outputs": [],
   "source": [
    "reports = []"
   ]
  },
  {
   "cell_type": "markdown",
   "id": "c1937a01",
   "metadata": {
    "papermill": {
     "duration": 0.004354,
     "end_time": "2022-12-11T17:44:00.957303",
     "exception": false,
     "start_time": "2022-12-11T17:44:00.952949",
     "status": "completed"
    },
    "tags": []
   },
   "source": [
    "**Linear Regression**"
   ]
  },
  {
   "cell_type": "code",
   "execution_count": 6,
   "id": "ef60a11b",
   "metadata": {
    "execution": {
     "iopub.execute_input": "2022-12-11T17:44:00.968361Z",
     "iopub.status.busy": "2022-12-11T17:44:00.967900Z",
     "iopub.status.idle": "2022-12-11T17:44:01.048190Z",
     "shell.execute_reply": "2022-12-11T17:44:01.045795Z"
    },
    "papermill": {
     "duration": 0.089001,
     "end_time": "2022-12-11T17:44:01.050880",
     "exception": false,
     "start_time": "2022-12-11T17:44:00.961879",
     "status": "completed"
    },
    "tags": []
   },
   "outputs": [],
   "source": [
    "from sklearn.linear_model import LinearRegression\n",
    "clf = LinearRegression()"
   ]
  },
  {
   "cell_type": "code",
   "execution_count": 7,
   "id": "ee936630",
   "metadata": {
    "execution": {
     "iopub.execute_input": "2022-12-11T17:44:01.062469Z",
     "iopub.status.busy": "2022-12-11T17:44:01.060878Z",
     "iopub.status.idle": "2022-12-11T17:44:01.092737Z",
     "shell.execute_reply": "2022-12-11T17:44:01.090623Z"
    },
    "papermill": {
     "duration": 0.040415,
     "end_time": "2022-12-11T17:44:01.095720",
     "exception": false,
     "start_time": "2022-12-11T17:44:01.055305",
     "status": "completed"
    },
    "tags": []
   },
   "outputs": [
    {
     "data": {
      "text/plain": [
       "LinearRegression()"
      ]
     },
     "execution_count": 7,
     "metadata": {},
     "output_type": "execute_result"
    }
   ],
   "source": [
    "clf.fit(X_train, y_train)"
   ]
  },
  {
   "cell_type": "code",
   "execution_count": 8,
   "id": "22382977",
   "metadata": {
    "execution": {
     "iopub.execute_input": "2022-12-11T17:44:01.106870Z",
     "iopub.status.busy": "2022-12-11T17:44:01.106490Z",
     "iopub.status.idle": "2022-12-11T17:44:01.117498Z",
     "shell.execute_reply": "2022-12-11T17:44:01.115316Z"
    },
    "papermill": {
     "duration": 0.020771,
     "end_time": "2022-12-11T17:44:01.121016",
     "exception": false,
     "start_time": "2022-12-11T17:44:01.100245",
     "status": "completed"
    },
    "tags": []
   },
   "outputs": [
    {
     "data": {
      "text/plain": [
       "array([10.03452169, 16.51694278, 15.75882527, ..., 10.23407628,\n",
       "       14.14056604, 17.95608648])"
      ]
     },
     "execution_count": 8,
     "metadata": {},
     "output_type": "execute_result"
    }
   ],
   "source": [
    "clf.predict(X_test)"
   ]
  },
  {
   "cell_type": "code",
   "execution_count": 9,
   "id": "0a0e6a95",
   "metadata": {
    "execution": {
     "iopub.execute_input": "2022-12-11T17:44:01.131900Z",
     "iopub.status.busy": "2022-12-11T17:44:01.131489Z",
     "iopub.status.idle": "2022-12-11T17:44:01.138989Z",
     "shell.execute_reply": "2022-12-11T17:44:01.138012Z"
    },
    "papermill": {
     "duration": 0.015321,
     "end_time": "2022-12-11T17:44:01.141048",
     "exception": false,
     "start_time": "2022-12-11T17:44:01.125727",
     "status": "completed"
    },
    "tags": []
   },
   "outputs": [],
   "source": [
    "score = clf.score(X_test, y_test)\n",
    "reports.append(\"Linear Regression, Accuracy: \" + str(score*100) + \"%\")"
   ]
  },
  {
   "cell_type": "markdown",
   "id": "e773d5f4",
   "metadata": {
    "papermill": {
     "duration": 0.00395,
     "end_time": "2022-12-11T17:44:01.149623",
     "exception": false,
     "start_time": "2022-12-11T17:44:01.145673",
     "status": "completed"
    },
    "tags": []
   },
   "source": [
    "**Lasso**"
   ]
  },
  {
   "cell_type": "code",
   "execution_count": 10,
   "id": "28d71247",
   "metadata": {
    "execution": {
     "iopub.execute_input": "2022-12-11T17:44:01.159811Z",
     "iopub.status.busy": "2022-12-11T17:44:01.159430Z",
     "iopub.status.idle": "2022-12-11T17:44:01.164326Z",
     "shell.execute_reply": "2022-12-11T17:44:01.163480Z"
    },
    "papermill": {
     "duration": 0.012882,
     "end_time": "2022-12-11T17:44:01.166786",
     "exception": false,
     "start_time": "2022-12-11T17:44:01.153904",
     "status": "completed"
    },
    "tags": []
   },
   "outputs": [],
   "source": [
    "from sklearn.linear_model import Lasso\n",
    "clf = Lasso(alpha=0.9)"
   ]
  },
  {
   "cell_type": "code",
   "execution_count": 11,
   "id": "f023b551",
   "metadata": {
    "execution": {
     "iopub.execute_input": "2022-12-11T17:44:01.177512Z",
     "iopub.status.busy": "2022-12-11T17:44:01.177107Z",
     "iopub.status.idle": "2022-12-11T17:44:01.187750Z",
     "shell.execute_reply": "2022-12-11T17:44:01.186728Z"
    },
    "papermill": {
     "duration": 0.018244,
     "end_time": "2022-12-11T17:44:01.189751",
     "exception": false,
     "start_time": "2022-12-11T17:44:01.171507",
     "status": "completed"
    },
    "tags": []
   },
   "outputs": [
    {
     "data": {
      "text/plain": [
       "Lasso(alpha=0.9)"
      ]
     },
     "execution_count": 11,
     "metadata": {},
     "output_type": "execute_result"
    }
   ],
   "source": [
    "clf.fit(X_train, y_train)"
   ]
  },
  {
   "cell_type": "code",
   "execution_count": 12,
   "id": "f0d109f3",
   "metadata": {
    "execution": {
     "iopub.execute_input": "2022-12-11T17:44:01.201457Z",
     "iopub.status.busy": "2022-12-11T17:44:01.201009Z",
     "iopub.status.idle": "2022-12-11T17:44:01.208868Z",
     "shell.execute_reply": "2022-12-11T17:44:01.207814Z"
    },
    "papermill": {
     "duration": 0.016077,
     "end_time": "2022-12-11T17:44:01.210684",
     "exception": false,
     "start_time": "2022-12-11T17:44:01.194607",
     "status": "completed"
    },
    "tags": []
   },
   "outputs": [
    {
     "data": {
      "text/plain": [
       "array([10.56532305, 16.23646502, 15.27227637, ..., 10.46670989,\n",
       "       13.94598812, 17.33957033])"
      ]
     },
     "execution_count": 12,
     "metadata": {},
     "output_type": "execute_result"
    }
   ],
   "source": [
    "clf.predict(X_test)"
   ]
  },
  {
   "cell_type": "code",
   "execution_count": 13,
   "id": "dc852184",
   "metadata": {
    "execution": {
     "iopub.execute_input": "2022-12-11T17:44:01.224108Z",
     "iopub.status.busy": "2022-12-11T17:44:01.223498Z",
     "iopub.status.idle": "2022-12-11T17:44:01.230124Z",
     "shell.execute_reply": "2022-12-11T17:44:01.229098Z"
    },
    "papermill": {
     "duration": 0.017019,
     "end_time": "2022-12-11T17:44:01.232731",
     "exception": false,
     "start_time": "2022-12-11T17:44:01.215712",
     "status": "completed"
    },
    "tags": []
   },
   "outputs": [],
   "source": [
    "score = clf.score(X_test, y_test)\n",
    "reports.append(\"Lasso, Accuracy: \" + str(score*100) + \"%\")"
   ]
  },
  {
   "cell_type": "code",
   "execution_count": 14,
   "id": "0f76a9ea",
   "metadata": {
    "execution": {
     "iopub.execute_input": "2022-12-11T17:44:01.244416Z",
     "iopub.status.busy": "2022-12-11T17:44:01.243848Z",
     "iopub.status.idle": "2022-12-11T17:44:01.248231Z",
     "shell.execute_reply": "2022-12-11T17:44:01.247168Z"
    },
    "papermill": {
     "duration": 0.012868,
     "end_time": "2022-12-11T17:44:01.250598",
     "exception": false,
     "start_time": "2022-12-11T17:44:01.237730",
     "status": "completed"
    },
    "tags": []
   },
   "outputs": [
    {
     "name": "stdout",
     "output_type": "stream",
     "text": [
      "Linear Regression, Accuracy: 4.138440182422021%\n",
      "Lasso, Accuracy: 3.6222189886146783%\n"
     ]
    }
   ],
   "source": [
    "for r in reports:\n",
    "    print(r)"
   ]
  }
 ],
 "metadata": {
  "kernelspec": {
   "display_name": "Python 3",
   "language": "python",
   "name": "python3"
  },
  "language_info": {
   "codemirror_mode": {
    "name": "ipython",
    "version": 3
   },
   "file_extension": ".py",
   "mimetype": "text/x-python",
   "name": "python",
   "nbconvert_exporter": "python",
   "pygments_lexer": "ipython3",
   "version": "3.7.12"
  },
  "papermill": {
   "default_parameters": {},
   "duration": 10.584588,
   "end_time": "2022-12-11T17:44:02.078894",
   "environment_variables": {},
   "exception": null,
   "input_path": "__notebook__.ipynb",
   "output_path": "__notebook__.ipynb",
   "parameters": {},
   "start_time": "2022-12-11T17:43:51.494306",
   "version": "2.3.4"
  }
 },
 "nbformat": 4,
 "nbformat_minor": 5
}
